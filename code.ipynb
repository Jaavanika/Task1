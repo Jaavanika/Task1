import pandas as pd
import numpy as np
import seaborn as sns
import matplotlib.pyplot as plt
from sklearn.preprocessing import LabelEncoder, StandardScaler

#1
data = pd.read_csv("C:/Users/JAAVANIKA L/fall semester 22-23/Downloads/Titanic-Dataset.csv")
data.head()

#2
data.info()

#3
data.isnull().sum()

#4
for column in data.columns:
    if data[column].isnull().sum() > 0:
        if data[column].dtype == 'object':
            data[column].fillna(data[column].mode()[0], inplace=True)
        else:
            data[column].fillna(data[column].mean(), inplace=True)

#5
label_encoder = LabelEncoder()
for column in data.select_dtypes(include='object').columns:
    data[column] = label_encoder.fit_transform(data[column])

#6
scaler = StandardScaler()
numeric_columns = data.select_dtypes(include=['int64', 'float64']).columns
data[numeric_columns] = scaler.fit_transform(data[numeric_columns])

#7
plt.figure(figsize=(12, 6))
sns.boxplot(data=data[numeric_columns])
plt.title("Boxplot")
plt.xticks(rotation=90)
plt.show()

#8
for column in numeric_columns:
    Q1 = data[column].quantile(0.25)
    Q3 = data[column].quantile(0.75)
    IQR = Q3 - Q1
    lower_limit = Q1 - 1.5 * IQR
    upper_limit = Q3 + 1.5 * IQR
    data = data[(data[column] >= lower_limit) & (data[column] <= upper_limit)]

#9
print("\nShape of dataset after removing outliers:", data.shape)
